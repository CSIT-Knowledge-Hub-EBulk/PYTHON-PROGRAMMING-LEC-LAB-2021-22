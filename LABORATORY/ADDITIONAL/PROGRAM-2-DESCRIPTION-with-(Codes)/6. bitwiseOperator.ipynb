{
 "cells": [
  {
   "cell_type": "code",
   "execution_count": 1,
   "id": "1d6072c3",
   "metadata": {},
   "outputs": [
    {
     "name": "stdout",
     "output_type": "stream",
     "text": [
      "~a =  -11\n",
      "a&b =  10\n",
      "a|b =  15\n",
      "a^b =  5\n",
      "a<<2 =  40\n",
      "a>>2 =  2\n"
     ]
    }
   ],
   "source": [
    "a = 10\t\t\t\t#\t0000 1010\n",
    "b = 15\t\t\t\t#\t0000 1111\t\n",
    "\n",
    "print('~a = ', ~a)\n",
    "print('a&b = ', a&b)\n",
    "print('a|b = ', a|b)\n",
    "print('a^b = ', a^b)\n",
    "print('a<<2 = ', a<<2)\n",
    "print('a>>2 = ', a>>2)"
   ]
  },
  {
   "cell_type": "code",
   "execution_count": null,
   "id": "4a623488",
   "metadata": {},
   "outputs": [],
   "source": []
  }
 ],
 "metadata": {
  "kernelspec": {
   "display_name": "Python 3 (ipykernel)",
   "language": "python",
   "name": "python3"
  },
  "language_info": {
   "codemirror_mode": {
    "name": "ipython",
    "version": 3
   },
   "file_extension": ".py",
   "mimetype": "text/x-python",
   "name": "python",
   "nbconvert_exporter": "python",
   "pygments_lexer": "ipython3",
   "version": "3.9.7"
  }
 },
 "nbformat": 4,
 "nbformat_minor": 5
}
