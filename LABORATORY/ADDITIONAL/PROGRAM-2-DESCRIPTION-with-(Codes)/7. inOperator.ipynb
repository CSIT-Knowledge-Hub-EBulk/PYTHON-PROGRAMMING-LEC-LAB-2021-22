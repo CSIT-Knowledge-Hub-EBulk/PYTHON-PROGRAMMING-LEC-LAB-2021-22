{
 "cells": [
  {
   "cell_type": "code",
   "execution_count": 2,
   "id": "504e7544",
   "metadata": {},
   "outputs": [
    {
     "name": "stdout",
     "output_type": "stream",
     "text": [
      "True\n",
      "True\n",
      "False\n"
     ]
    }
   ],
   "source": [
    "st1 = \"Welcome to all in Python World\"\n",
    "print(\"to\" in st1)\n",
    "\n",
    "st2 = \"Welcome to all in Python World\"\n",
    "print(\"to\" in st2)\n",
    "\n",
    "st3 = \"Welcome to all in Python World\"\n",
    "print(\"subs\" in st3)"
   ]
  },
  {
   "cell_type": "code",
   "execution_count": null,
   "id": "51ed7fc8",
   "metadata": {},
   "outputs": [],
   "source": []
  }
 ],
 "metadata": {
  "kernelspec": {
   "display_name": "Python 3 (ipykernel)",
   "language": "python",
   "name": "python3"
  },
  "language_info": {
   "codemirror_mode": {
    "name": "ipython",
    "version": 3
   },
   "file_extension": ".py",
   "mimetype": "text/x-python",
   "name": "python",
   "nbconvert_exporter": "python",
   "pygments_lexer": "ipython3",
   "version": "3.9.7"
  }
 },
 "nbformat": 4,
 "nbformat_minor": 5
}
