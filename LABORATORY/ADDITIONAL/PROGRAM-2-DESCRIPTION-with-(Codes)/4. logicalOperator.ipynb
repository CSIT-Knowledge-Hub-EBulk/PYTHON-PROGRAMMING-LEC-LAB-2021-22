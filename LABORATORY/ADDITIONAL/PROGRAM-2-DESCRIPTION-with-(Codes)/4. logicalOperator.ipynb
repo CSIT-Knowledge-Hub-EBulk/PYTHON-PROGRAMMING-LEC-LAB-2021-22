{
 "cells": [
  {
   "cell_type": "code",
   "execution_count": 2,
   "id": "3cb402b4",
   "metadata": {},
   "outputs": [
    {
     "name": "stdout",
     "output_type": "stream",
     "text": [
      "******* Logical and *******\n",
      "True\n",
      "False\n",
      "False\n",
      "False\n",
      "3\n",
      "200\n",
      "False\n",
      "False\n"
     ]
    }
   ],
   "source": [
    "#Logical and\n",
    "a = 5\n",
    "b = 2\n",
    "c = 3\n",
    "d = 200\n",
    "\n",
    "print(\"******* Logical and *******\")\n",
    "print(a>b and a>c)\n",
    "print(a>b and a<c)\n",
    "print(a<b and a>c)\n",
    "print(a<b and a<c)\n",
    "print(a>b and c)\n",
    "print(a>b and c and d)\n",
    "print(a<b and c)\n",
    "print(a<b and c and d)"
   ]
  },
  {
   "cell_type": "code",
   "execution_count": 3,
   "id": "4464c293",
   "metadata": {},
   "outputs": [
    {
     "name": "stdout",
     "output_type": "stream",
     "text": [
      "******* Logical or *******\n",
      "True\n",
      "True\n",
      "True\n",
      "False\n",
      "True\n",
      "True\n",
      "3\n",
      "3\n"
     ]
    }
   ],
   "source": [
    "#Logical or\n",
    "print(\"******* Logical or *******\")\n",
    "print(a>b or a>c)\n",
    "print(a>b or a<c)\n",
    "print(a<b or a>c)\n",
    "print(a<b or a<c)\n",
    "print(a>b or c)\n",
    "print(a>b or c or d)\n",
    "print(a<b or c)\n",
    "print(a<b or c or d)"
   ]
  },
  {
   "cell_type": "code",
   "execution_count": 4,
   "id": "637db536",
   "metadata": {},
   "outputs": [
    {
     "name": "stdout",
     "output_type": "stream",
     "text": [
      "******* Logical not *******\n",
      "True\n",
      "False\n"
     ]
    }
   ],
   "source": [
    "#Logical not\n",
    "print(\"******* Logical not *******\")\n",
    "print(not(a<b))\n",
    "print(not(a>b))"
   ]
  },
  {
   "cell_type": "code",
   "execution_count": null,
   "id": "e59caab5",
   "metadata": {},
   "outputs": [],
   "source": []
  }
 ],
 "metadata": {
  "kernelspec": {
   "display_name": "Python 3 (ipykernel)",
   "language": "python",
   "name": "python3"
  },
  "language_info": {
   "codemirror_mode": {
    "name": "ipython",
    "version": 3
   },
   "file_extension": ".py",
   "mimetype": "text/x-python",
   "name": "python",
   "nbconvert_exporter": "python",
   "pygments_lexer": "ipython3",
   "version": "3.9.7"
  }
 },
 "nbformat": 4,
 "nbformat_minor": 5
}
