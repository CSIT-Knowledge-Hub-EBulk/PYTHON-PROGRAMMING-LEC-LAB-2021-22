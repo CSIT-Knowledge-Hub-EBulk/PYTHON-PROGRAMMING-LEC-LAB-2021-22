{
 "cells": [
  {
   "cell_type": "code",
   "execution_count": 1,
   "id": "b996d819",
   "metadata": {},
   "outputs": [
    {
     "name": "stdout",
     "output_type": "stream",
     "text": [
      "30\n",
      "25\n"
     ]
    }
   ],
   "source": [
    "# Assignment operators\n",
    "a = 10\n",
    "b = 20\n",
    "m = 15\n",
    "\n",
    "y = a + b\n",
    "print(y)\n",
    "\n",
    "m+=10\n",
    "print(m)\n",
    "\n",
    "#m-=10\n",
    "#print(m)\n",
    "\n",
    "#m*=10\n",
    "#print(m)\n",
    "\n",
    "#m/=10\n",
    "#print(m)\n",
    "\n",
    "#m%=10\n",
    "#print(m)\n",
    "\n",
    "#m**=2\n",
    "#print(m)\n",
    "\n",
    "#m//=10\n",
    "#print(m)"
   ]
  },
  {
   "cell_type": "code",
   "execution_count": null,
   "id": "d0f55548",
   "metadata": {},
   "outputs": [],
   "source": []
  }
 ],
 "metadata": {
  "kernelspec": {
   "display_name": "Python 3 (ipykernel)",
   "language": "python",
   "name": "python3"
  },
  "language_info": {
   "codemirror_mode": {
    "name": "ipython",
    "version": 3
   },
   "file_extension": ".py",
   "mimetype": "text/x-python",
   "name": "python",
   "nbconvert_exporter": "python",
   "pygments_lexer": "ipython3",
   "version": "3.9.7"
  }
 },
 "nbformat": 4,
 "nbformat_minor": 5
}
