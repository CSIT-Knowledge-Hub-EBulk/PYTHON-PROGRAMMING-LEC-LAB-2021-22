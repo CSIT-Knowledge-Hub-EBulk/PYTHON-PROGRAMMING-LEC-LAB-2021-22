{
 "cells": [
  {
   "cell_type": "code",
   "execution_count": 7,
   "id": "8d102c0e",
   "metadata": {},
   "outputs": [
    {
     "name": "stdout",
     "output_type": "stream",
     "text": [
      "2.5\n",
      "<class 'float'>\n",
      "15.5\n",
      "<class 'float'>\n"
     ]
    }
   ],
   "source": [
    "a = 5\n",
    "b = 2\n",
    "value = a/b\n",
    "print(value)\n",
    "print(type(value))\n",
    "\n",
    "x = 10\n",
    "y = 5.5\n",
    "total = x + y \n",
    "print(total)\n",
    "print(type(total))\n",
    "\n",
    "j = \"Hello\"\n",
    "k = \"Pthon Programming World\"\n",
    "p = j + k\n",
    "#print(p)\n",
    "#print(type(p))\n",
    "\n",
    "q = 20\n",
    "u = '10'\n",
    "#r = q + u \n",
    "#print(r)\n",
    "\n",
    "m = 20\n",
    "n = 'PthonProgramming'\n",
    "#t = m + n \n",
    "#print(t)"
   ]
  },
  {
   "cell_type": "code",
   "execution_count": null,
   "id": "dc6e7e3e",
   "metadata": {},
   "outputs": [],
   "source": []
  }
 ],
 "metadata": {
  "kernelspec": {
   "display_name": "Python 3 (ipykernel)",
   "language": "python",
   "name": "python3"
  },
  "language_info": {
   "codemirror_mode": {
    "name": "ipython",
    "version": 3
   },
   "file_extension": ".py",
   "mimetype": "text/x-python",
   "name": "python",
   "nbconvert_exporter": "python",
   "pygments_lexer": "ipython3",
   "version": "3.9.7"
  }
 },
 "nbformat": 4,
 "nbformat_minor": 5
}
