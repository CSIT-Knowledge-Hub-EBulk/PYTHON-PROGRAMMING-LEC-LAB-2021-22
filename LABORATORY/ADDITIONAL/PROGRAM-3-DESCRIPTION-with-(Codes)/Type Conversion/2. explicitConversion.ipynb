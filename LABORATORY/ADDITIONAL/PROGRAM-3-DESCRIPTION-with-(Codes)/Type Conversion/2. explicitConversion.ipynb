{
 "cells": [
  {
   "cell_type": "code",
   "execution_count": 2,
   "id": "363bd33d",
   "metadata": {},
   "outputs": [
    {
     "name": "stdout",
     "output_type": "stream",
     "text": [
      "<class 'float'>\n",
      "2\n",
      "<class 'int'>\n"
     ]
    }
   ],
   "source": [
    "a = 5\n",
    "b = 2\n",
    "value = a/b\n",
    "print(type(value))\n",
    "int_value = int(value)\n",
    "print(int_value)\n",
    "print(type(int_value))"
   ]
  },
  {
   "cell_type": "code",
   "execution_count": 3,
   "id": "f10f7a3c",
   "metadata": {},
   "outputs": [
    {
     "name": "stdout",
     "output_type": "stream",
     "text": [
      "<class 'str'>\n",
      "30\n"
     ]
    }
   ],
   "source": [
    "# String to Integer\n",
    "q = 20\n",
    "u = '10'\n",
    "print(type(u))\n",
    "r = q + int(u)\n",
    "print(r)"
   ]
  },
  {
   "cell_type": "code",
   "execution_count": 4,
   "id": "d13bae68",
   "metadata": {},
   "outputs": [
    {
     "name": "stdout",
     "output_type": "stream",
     "text": [
      "10\n",
      "<class 'int'>\n"
     ]
    }
   ],
   "source": [
    "# Float to Integer\n",
    "n1 = 10.36\n",
    "vn1 = int(n1)\n",
    "print(vn1)\n",
    "print(type(vn1))"
   ]
  },
  {
   "cell_type": "code",
   "execution_count": 5,
   "id": "c5a81dcc",
   "metadata": {},
   "outputs": [
    {
     "name": "stdout",
     "output_type": "stream",
     "text": [
      "10.0\n",
      "<class 'float'>\n"
     ]
    }
   ],
   "source": [
    "# Integer to Float\n",
    "n2 = 10\n",
    "vn2 = float(n2)\n",
    "print(vn2)\n",
    "print(type(vn2))"
   ]
  },
  {
   "cell_type": "code",
   "execution_count": 6,
   "id": "089df43c",
   "metadata": {},
   "outputs": [
    {
     "name": "stdout",
     "output_type": "stream",
     "text": [
      "(10+0j)\n",
      "<class 'complex'>\n"
     ]
    }
   ],
   "source": [
    "# Integer to Complex\n",
    "n3 = 10\n",
    "vn3 = complex(n3)\n",
    "print(vn3)\n",
    "print(type(vn3))"
   ]
  },
  {
   "cell_type": "code",
   "execution_count": 7,
   "id": "d4cce67d",
   "metadata": {},
   "outputs": [
    {
     "name": "stdout",
     "output_type": "stream",
     "text": [
      "10\n",
      "<class 'str'>\n"
     ]
    }
   ],
   "source": [
    "# Integer to String\n",
    "n4 = 10\n",
    "vn4 = str(n4)\n",
    "print(vn4)\n",
    "print(type(vn4))"
   ]
  },
  {
   "cell_type": "code",
   "execution_count": 8,
   "id": "0f7b1f1d",
   "metadata": {},
   "outputs": [
    {
     "name": "stdout",
     "output_type": "stream",
     "text": [
      "('P', 't', 'h', 'o', 'n', 'P', 'r', 'o', 'g', 'r', 'a', 'm', 'm', 'i', 'n', 'g')\n",
      "<class 'tuple'>\n"
     ]
    }
   ],
   "source": [
    "# String to Tuple\n",
    "n5 = \"PthonProgramming\"\n",
    "vn5 = tuple(n5)\n",
    "print(vn5)\n",
    "print(type(vn5))"
   ]
  },
  {
   "cell_type": "code",
   "execution_count": 9,
   "id": "a5b61d65",
   "metadata": {},
   "outputs": [
    {
     "name": "stdout",
     "output_type": "stream",
     "text": [
      "['Rahul', 'Ram', 'Sonam', 'Preet']\n",
      "<class 'list'>\n"
     ]
    }
   ],
   "source": [
    "# Tuple to List\n",
    "n5 = (\"Rahul\", \"Ram\", \"Sonam\", \"Preet\")\n",
    "vn5 = list(n5)\n",
    "print(vn5)\n",
    "print(type(vn5))"
   ]
  },
  {
   "cell_type": "code",
   "execution_count": null,
   "id": "05ecdb08",
   "metadata": {},
   "outputs": [],
   "source": []
  }
 ],
 "metadata": {
  "kernelspec": {
   "display_name": "Python 3 (ipykernel)",
   "language": "python",
   "name": "python3"
  },
  "language_info": {
   "codemirror_mode": {
    "name": "ipython",
    "version": 3
   },
   "file_extension": ".py",
   "mimetype": "text/x-python",
   "name": "python",
   "nbconvert_exporter": "python",
   "pygments_lexer": "ipython3",
   "version": "3.9.7"
  }
 },
 "nbformat": 4,
 "nbformat_minor": 5
}
