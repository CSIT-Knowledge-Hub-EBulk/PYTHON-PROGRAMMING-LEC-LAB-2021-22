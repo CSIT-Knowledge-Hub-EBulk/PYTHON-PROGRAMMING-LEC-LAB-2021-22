{
 "cells": [
  {
   "cell_type": "code",
   "execution_count": 1,
   "id": "f7e22717",
   "metadata": {},
   "outputs": [
    {
     "name": "stdout",
     "output_type": "stream",
     "text": [
      "SHWETA\n",
      "SHWETA\n"
     ]
    }
   ],
   "source": [
    "# getting user input without prompt\n",
    "name = input()\n",
    "print(name)"
   ]
  },
  {
   "cell_type": "code",
   "execution_count": 2,
   "id": "d1829711",
   "metadata": {},
   "outputs": [
    {
     "name": "stdout",
     "output_type": "stream",
     "text": [
      "What is Your Name: SHWETA\n",
      "SHWETA\n"
     ]
    }
   ],
   "source": [
    "# Getting user input with prompt\n",
    "nm = input(\"What is Your Name: \")\n",
    "print(nm)"
   ]
  },
  {
   "cell_type": "code",
   "execution_count": 3,
   "id": "316a3026",
   "metadata": {},
   "outputs": [
    {
     "name": "stdout",
     "output_type": "stream",
     "text": [
      "What is Your Name: SHWETA\n",
      "You name is: SHWETA\n"
     ]
    }
   ],
   "source": [
    "nm = input(\"What is Your Name: \")\n",
    "print(\"You name is:\", nm)"
   ]
  },
  {
   "cell_type": "code",
   "execution_count": 4,
   "id": "3e923e9f",
   "metadata": {},
   "outputs": [
    {
     "name": "stdout",
     "output_type": "stream",
     "text": [
      "Enter Mobile Number: 1234567890\n",
      "<class 'str'>\n",
      "1234567890\n",
      "<class 'int'>\n",
      "Enter Registration Number: 1245\n",
      "1245\n"
     ]
    }
   ],
   "source": [
    "# Getting input and convert it into integer\n",
    "mobile = input(\"Enter Mobile Number: \")\n",
    "print(type(mobile))\n",
    "mb = int(mobile)\n",
    "print(mb)\n",
    "print(type(mb))\n",
    "\n",
    "reg = int(input(\"Enter Registration Number: \"))\n",
    "print(reg)"
   ]
  },
  {
   "cell_type": "code",
   "execution_count": null,
   "id": "8888e7e2",
   "metadata": {},
   "outputs": [],
   "source": []
  }
 ],
 "metadata": {
  "kernelspec": {
   "display_name": "Python 3 (ipykernel)",
   "language": "python",
   "name": "python3"
  },
  "language_info": {
   "codemirror_mode": {
    "name": "ipython",
    "version": 3
   },
   "file_extension": ".py",
   "mimetype": "text/x-python",
   "name": "python",
   "nbconvert_exporter": "python",
   "pygments_lexer": "ipython3",
   "version": "3.9.7"
  }
 },
 "nbformat": 4,
 "nbformat_minor": 5
}
