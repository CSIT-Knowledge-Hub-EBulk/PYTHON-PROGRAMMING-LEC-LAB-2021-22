{
 "cells": [
  {
   "cell_type": "code",
   "execution_count": 17,
   "id": "40e9ee8c",
   "metadata": {},
   "outputs": [
    {
     "name": "stdout",
     "output_type": "stream",
     "text": [
      "Welcome to Python Programming World\n"
     ]
    }
   ],
   "source": [
    "# print string with double quotes\n",
    "print(\"Welcome to Python Programming World\")"
   ]
  },
  {
   "cell_type": "code",
   "execution_count": 18,
   "id": "8f9f83e8",
   "metadata": {},
   "outputs": [
    {
     "name": "stdout",
     "output_type": "stream",
     "text": [
      "\n"
     ]
    }
   ],
   "source": [
    "# print blank lineWorld\n",
    "print()"
   ]
  },
  {
   "cell_type": "code",
   "execution_count": 19,
   "id": "04bc8b79",
   "metadata": {},
   "outputs": [
    {
     "name": "stdout",
     "output_type": "stream",
     "text": [
      "Welcome to Python Programming World\n"
     ]
    }
   ],
   "source": [
    "# print string with Single quotes\n",
    "print('Welcome to Python Programming World')"
   ]
  },
  {
   "cell_type": "code",
   "execution_count": 20,
   "id": "eed66ae7",
   "metadata": {},
   "outputs": [
    {
     "name": "stdout",
     "output_type": "stream",
     "text": [
      "Welcome to Python Programming World\n"
     ]
    }
   ],
   "source": [
    "# print each word in same line becoz inside one print function\n",
    "print(\"Welcome to\", \"Python Programming\", \"World\")"
   ]
  },
  {
   "cell_type": "code",
   "execution_count": 21,
   "id": "e30db7f3",
   "metadata": {},
   "outputs": [
    {
     "name": "stdout",
     "output_type": "stream",
     "text": [
      "10\n"
     ]
    }
   ],
   "source": [
    "# print integer\n",
    "print(10)"
   ]
  },
  {
   "cell_type": "code",
   "execution_count": 22,
   "id": "eb858802",
   "metadata": {},
   "outputs": [
    {
     "name": "stdout",
     "output_type": "stream",
     "text": [
      "Welcome to\n",
      "Python Programming\n",
      "World\n"
     ]
    }
   ],
   "source": [
    "# prints in separate line\n",
    "print(\"Welcome to\")\n",
    "print(\"Python Programming\")\n",
    "print(\"World\")"
   ]
  },
  {
   "cell_type": "code",
   "execution_count": 23,
   "id": "9f634a31",
   "metadata": {},
   "outputs": [
    {
     "name": "stdout",
     "output_type": "stream",
     "text": [
      "[10, 20, -50, 21.3, 'Python Programming']\n"
     ]
    }
   ],
   "source": [
    "# print list\n",
    "data = [10, 20, -50, 21.3, 'Python Programming']\n",
    "print(data)"
   ]
  },
  {
   "cell_type": "code",
   "execution_count": 24,
   "id": "cec24ff8",
   "metadata": {},
   "outputs": [
    {
     "name": "stdout",
     "output_type": "stream",
     "text": [
      "Welcome to***Python Programming***World\n"
     ]
    }
   ],
   "source": [
    "# print with separator\n",
    "print(\"Welcome to\", \"Python Programming\", \"World\", sep=\"***\")"
   ]
  },
  {
   "cell_type": "code",
   "execution_count": 25,
   "id": "9f470e49",
   "metadata": {},
   "outputs": [
    {
     "name": "stdout",
     "output_type": "stream",
     "text": [
      "Welcome toPython ProgrammingWorld\n"
     ]
    }
   ],
   "source": [
    "# print with end 'space'\n",
    "print(\"Welcome to\", end=\"\")\n",
    "print(\"Python Programming\", end=\"\")\n",
    "print(\"World\")"
   ]
  },
  {
   "cell_type": "code",
   "execution_count": 26,
   "id": "80669160",
   "metadata": {},
   "outputs": [
    {
     "name": "stdout",
     "output_type": "stream",
     "text": [
      "We\tPy\tPro\n"
     ]
    }
   ],
   "source": [
    "# print with end 'tab'\n",
    "print(\"We\", end=\"\\t\")\n",
    "print(\"Py\", end=\"\\t\")\n",
    "print(\"Pro\")"
   ]
  },
  {
   "cell_type": "code",
   "execution_count": 27,
   "id": "1d138b2f",
   "metadata": {},
   "outputs": [
    {
     "name": "stdout",
     "output_type": "stream",
     "text": [
      "10\n"
     ]
    }
   ],
   "source": [
    "# print variable value\n",
    "a = 10\n",
    "print(a)"
   ]
  },
  {
   "cell_type": "code",
   "execution_count": 28,
   "id": "885f0a40",
   "metadata": {},
   "outputs": [
    {
     "name": "stdout",
     "output_type": "stream",
     "text": [
      "20 30\n",
      "20,30\n"
     ]
    }
   ],
   "source": [
    "# print variable value with separator\n",
    "x = 20\n",
    "y = 30\n",
    "print(x, y)\n",
    "print(x, y, sep=',')"
   ]
  },
  {
   "cell_type": "code",
   "execution_count": 29,
   "id": "af36748a",
   "metadata": {},
   "outputs": [
    {
     "name": "stdout",
     "output_type": "stream",
     "text": [
      "Value:  40\n"
     ]
    }
   ],
   "source": [
    "# print with integer and string\n",
    "m = 40\n",
    "print(\"Value: \", m)"
   ]
  },
  {
   "cell_type": "code",
   "execution_count": 31,
   "id": "9d9666d6",
   "metadata": {},
   "outputs": [
    {
     "name": "stdout",
     "output_type": "stream",
     "text": [
      "My Name is  Rahul and My age is  27\n"
     ]
    }
   ],
   "source": [
    "# print with integer and string\n",
    "name = \"Rahul\"\n",
    "age = 27\n",
    "print(\"My Name is \", name, \"and My age is \", age)"
   ]
  },
  {
   "cell_type": "code",
   "execution_count": null,
   "id": "bf151dd2",
   "metadata": {},
   "outputs": [],
   "source": []
  }
 ],
 "metadata": {
  "kernelspec": {
   "display_name": "Python 3 (ipykernel)",
   "language": "python",
   "name": "python3"
  },
  "language_info": {
   "codemirror_mode": {
    "name": "ipython",
    "version": 3
   },
   "file_extension": ".py",
   "mimetype": "text/x-python",
   "name": "python",
   "nbconvert_exporter": "python",
   "pygments_lexer": "ipython3",
   "version": "3.9.7"
  }
 },
 "nbformat": 4,
 "nbformat_minor": 5
}
