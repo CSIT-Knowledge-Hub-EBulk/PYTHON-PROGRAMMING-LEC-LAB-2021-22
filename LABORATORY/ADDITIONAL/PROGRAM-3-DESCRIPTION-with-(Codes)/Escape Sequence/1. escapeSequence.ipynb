{
 "cells": [
  {
   "cell_type": "code",
   "execution_count": 1,
   "id": "9a32b89d",
   "metadata": {},
   "outputs": [
    {
     "name": "stdout",
     "output_type": "stream",
     "text": [
      "Welcome to PYTHON PROGRAMMING\n",
      "Welcome to\n",
      "PYTHON PROGRAMMING\n",
      "Welcome to\tPYTHON PROGRAMMING\n",
      "Welcome to \"PYTHON PROGRAMMING\" \n",
      "Welcome to 'PYTHON PROGRAMMING' \n"
     ]
    }
   ],
   "source": [
    "print(\"Welcome to PYTHON PROGRAMMING\")\n",
    "print(\"Welcome to\\nPYTHON PROGRAMMING\")\n",
    "print(\"Welcome to\\tPYTHON PROGRAMMING\")\n",
    "print(\"Welcome to \\\"PYTHON PROGRAMMING\\\" \")\n",
    "print(\"Welcome to \\'PYTHON PROGRAMMING\\' \")"
   ]
  },
  {
   "cell_type": "code",
   "execution_count": null,
   "id": "43398058",
   "metadata": {},
   "outputs": [],
   "source": []
  }
 ],
 "metadata": {
  "kernelspec": {
   "display_name": "Python 3 (ipykernel)",
   "language": "python",
   "name": "python3"
  },
  "language_info": {
   "codemirror_mode": {
    "name": "ipython",
    "version": 3
   },
   "file_extension": ".py",
   "mimetype": "text/x-python",
   "name": "python",
   "nbconvert_exporter": "python",
   "pygments_lexer": "ipython3",
   "version": "3.9.7"
  }
 },
 "nbformat": 4,
 "nbformat_minor": 5
}
